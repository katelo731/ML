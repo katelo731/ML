{
  "nbformat": 4,
  "nbformat_minor": 0,
  "metadata": {
    "colab": {
      "name": "ML_hw1",
      "provenance": [],
      "collapsed_sections": []
    },
    "kernelspec": {
      "name": "python3",
      "display_name": "Python 3"
    }
  },
  "cells": [
    {
      "cell_type": "markdown",
      "metadata": {
        "id": "yUep8utvsI9X"
      },
      "source": [
        "### Dataloader"
      ]
    },
    {
      "cell_type": "markdown",
      "metadata": {
        "id": "8Xcdm1U5EBl2"
      },
      "source": [
        "**Connect to Google Drive to download dataset**"
      ]
    },
    {
      "cell_type": "code",
      "metadata": {
        "id": "3MynyxFRDyqI"
      },
      "source": [
        "from pydrive.auth import GoogleAuth\n",
        "from pydrive.drive import GoogleDrive\n",
        "from google.colab import auth\n",
        "from oauth2client.client import GoogleCredentials"
      ],
      "execution_count": 1,
      "outputs": []
    },
    {
      "cell_type": "code",
      "metadata": {
        "id": "-vlglBgniKMw"
      },
      "source": [
        "import numpy as np\n",
        "import pandas as pd\n",
        "import math\n",
        "import matplotlib.pyplot as plt\n",
        "from itertools import combinations_with_replacement, combinations\n",
        "from statistics import mean, stdev"
      ],
      "execution_count": 2,
      "outputs": []
    },
    {
      "cell_type": "code",
      "metadata": {
        "id": "be6uZr7MD3S-"
      },
      "source": [
        "auth.authenticate_user()\n",
        "gauth = GoogleAuth()\n",
        "gauth.credentials = GoogleCredentials.get_application_default()\n",
        "drive = GoogleDrive(gauth)"
      ],
      "execution_count": 3,
      "outputs": []
    },
    {
      "cell_type": "code",
      "metadata": {
        "id": "uuGN6QhRhZu-"
      },
      "source": [
        "downloaded = drive.CreateFile({'id':\"1ReSvWR3kdB2G1k2ixHvO0FLnhl3K9aYZ\"})\n",
        "downloaded.GetContentFile('data_X.csv')\n",
        "data_X = pd.read_csv('data_X.csv')\n",
        "data_X = data_X.drop(columns='Serial_id')\n",
        "\n",
        "downloaded = drive.CreateFile({'id':\"1ezI7FuxttdUHiURtt929qiI83sMHZ27R\"})\n",
        "downloaded.GetContentFile('data_T.csv')\n",
        "data_T = pd.read_csv('data_T.csv')\n",
        "data_T = data_T.drop(columns='Serial_id')"
      ],
      "execution_count": 4,
      "outputs": []
    },
    {
      "cell_type": "code",
      "metadata": {
        "id": "1FXsH8D1syNa"
      },
      "source": [
        "# Normalize the input variables\n",
        "data_X /= data_X.max()"
      ],
      "execution_count": 5,
      "outputs": []
    },
    {
      "cell_type": "markdown",
      "metadata": {
        "id": "Qebt_Pv3HVif"
      },
      "source": [
        "**Divide the dataset to training and validation randomly**"
      ]
    },
    {
      "cell_type": "code",
      "metadata": {
        "id": "lLimaOS5HUky"
      },
      "source": [
        "# create random train/valid split\n",
        "indices = list(range(data_X.shape[0]))\n",
        "num_training_instances = int(0.8 * data_X.shape[0])\n",
        "np.random.shuffle(indices)\n",
        "\n",
        "train_indices = indices[:num_training_instances]\n",
        "valid_indices = indices[num_training_instances:]\n",
        "\n",
        "# split the actual data\n",
        "X_train, X_valid = data_X.iloc[train_indices], data_X.iloc[valid_indices]\n",
        "Y_train, Y_valid = data_T.iloc[train_indices], data_T.iloc[valid_indices]"
      ],
      "execution_count": 6,
      "outputs": []
    },
    {
      "cell_type": "markdown",
      "metadata": {
        "id": "S4NFpsCbNZEx"
      },
      "source": [
        "### Maximum Likelihood Approach"
      ]
    },
    {
      "cell_type": "markdown",
      "metadata": {
        "id": "Hh_Uh8IgcqB5"
      },
      "source": [
        "#### Linear Regression"
      ]
    },
    {
      "cell_type": "code",
      "metadata": {
        "id": "b6UMVNxNwNVz"
      },
      "source": [
        "def RMSE(x, weights, target):\n",
        "    y = np.dot(x, weights)\n",
        "    return math.sqrt(np.mean(y - target) ** 2)"
      ],
      "execution_count": 7,
      "outputs": []
    },
    {
      "cell_type": "code",
      "metadata": {
        "id": "FtT_CtLJHlpP"
      },
      "source": [
        "def applyPolynomialOrder(x, m):\n",
        "    x = x.values\n",
        "    N = len(x[0])\n",
        "\n",
        "    l = np.full((len(x), 1), 1)\n",
        "\n",
        "    for order in range(1, m + 1):\n",
        "        for combination in list(combinations_with_replacement(range(N), order)):\n",
        "            tmp = x[:, combination]\n",
        "            p = np.expand_dims(np.prod(tmp, axis=1), axis=1)\n",
        "            l = np.concatenate((l, p), axis=1)\n",
        "    return l"
      ],
      "execution_count": 8,
      "outputs": []
    },
    {
      "cell_type": "code",
      "metadata": {
        "id": "Ry0Oe8S8ZHvr"
      },
      "source": [
        "def computeWeights(x, target, _lambda = 1, regularized = True):\n",
        "    # https://long97.blog.csdn.net/article/details/108421700?utm_medium=distribute.pc_relevant.none-task-blog-BlogCommendFromMachineLearnPai2-4.channel_param&depth_1-utm_source=distribute.pc_relevant.none-task-blog-BlogCommendFromMachineLearnPai2-4.channel_param\n",
        "    if regularized:\n",
        "        xTx = np.dot(x.T, x)\n",
        "        invterm = np.linalg.inv(_lambda * np.eye(xTx.shape[0]) + xTx)\n",
        "        weights = np.dot(np.dot(invterm, x.T), target)\n",
        "    else:\n",
        "        invterm = np.linalg.inv(np.dot(x.T, x))\n",
        "        weights = np.dot(np.dot(invterm, x.T), target)\n",
        "    return weights"
      ],
      "execution_count": 9,
      "outputs": []
    },
    {
      "cell_type": "code",
      "metadata": {
        "id": "P-IH-Q5a7f6u"
      },
      "source": [
        "def LinearRegression(X_train, Y_train, X_valid, Y_valid, _M = 1, _Gaussian = False, _Sigmoid = False, _Regularized = True):\n",
        "    Cost_train = []\n",
        "    Cost_valid = []\n",
        "    Weights = []\n",
        "    m = 0\n",
        "\n",
        "    for m in range(1, _M + 1):\n",
        "        # Training\n",
        "        x_t = X_train\n",
        "\n",
        "        if _Gaussian:\n",
        "            x_t = applyGaussian(x_t)\n",
        "        elif _Sigmoid:\n",
        "            x_t = applySigmoid(x_t)\n",
        "        else:\n",
        "            x_t = applyPolynomialOrder(x_t, m)\n",
        "\n",
        "        # Set regularized = True as default to prevent singular matrix inverse error.\n",
        "        weights = computeWeights(x_t, Y_train, _Regularized)\n",
        "        Weights.append(weights)\n",
        "\n",
        "        cost_train = RMSE(x_t, weights, Y_train)\n",
        "        Cost_train.append(cost_train)\n",
        "\n",
        "        # Validation\n",
        "        x_v = X_valid\n",
        "\n",
        "        if _Gaussian:\n",
        "            x_v = applyGaussian(x_v)\n",
        "        elif _Sigmoid:\n",
        "            x_v = applySigmoid(x_v)\n",
        "        else:\n",
        "            x_v = applyPolynomialOrder(x_v, m)\n",
        "\n",
        "        cost_valid = RMSE(x_v, weights, Y_valid)\n",
        "        Cost_valid.append(cost_valid)\n",
        "\n",
        "    return Cost_train, Cost_valid, Weights"
      ],
      "execution_count": 10,
      "outputs": []
    },
    {
      "cell_type": "code",
      "metadata": {
        "id": "zCbERus4C6HM"
      },
      "source": [
        "Cost_train, Cost_valid, Weights = LinearRegression(X_train, Y_train, X_valid, Y_valid, 2)"
      ],
      "execution_count": 11,
      "outputs": []
    },
    {
      "cell_type": "code",
      "metadata": {
        "id": "emwglhCJJ4NF",
        "outputId": "35d57388-7ffb-4fa7-b320-6fc5c92d86d9",
        "colab": {
          "base_uri": "https://localhost:8080/",
          "height": 52
        }
      },
      "source": [
        "for i in range(1, 3):\n",
        "    print(\"M = \", i, \", training error:\", Cost_train[i-1], \", validation error:\", Cost_valid[i-1])"
      ],
      "execution_count": 12,
      "outputs": [
        {
          "output_type": "stream",
          "text": [
            "M =  1 , training error: 0.0005140167677501864 , validation error: 0.0023106298863022484\n",
            "M =  2 , training error: 0.00022176323538085685 , validation error: 0.002483574990422217\n"
          ],
          "name": "stdout"
        }
      ]
    },
    {
      "cell_type": "code",
      "metadata": {
        "id": "as_fzKPMdh9T",
        "outputId": "9cc0f012-9803-4dc8-c19d-241e0e586c9b",
        "colab": {
          "base_uri": "https://localhost:8080/",
          "height": 211
        }
      },
      "source": [
        "print(X_train.columns)\n",
        "print(Weights[0])"
      ],
      "execution_count": 13,
      "outputs": [
        {
          "output_type": "stream",
          "text": [
            "Index(['GRE_score', 'TOFEL_score', 'University_rating', 'SOP', 'LOR ', 'CGPA',\n",
            "       'Research'],\n",
            "      dtype='object')\n",
            "[[-0.20560671]\n",
            " [ 0.11444135]\n",
            " [ 0.21293897]\n",
            " [ 0.1308546 ]\n",
            " [ 0.09056928]\n",
            " [ 0.11439221]\n",
            " [ 0.43985194]\n",
            " [ 0.0515844 ]]\n"
          ],
          "name": "stdout"
        }
      ]
    },
    {
      "cell_type": "code",
      "metadata": {
        "id": "ceqPxGEjheGV",
        "outputId": "8b483300-0915-4220-fe8a-db1cbceb8d3f",
        "colab": {
          "base_uri": "https://localhost:8080/",
          "height": 641
        }
      },
      "source": [
        "print(Weights[1])"
      ],
      "execution_count": 25,
      "outputs": [
        {
          "output_type": "stream",
          "text": [
            "[[-1.85863374]\n",
            " [ 6.11104602]\n",
            " [-1.58163423]\n",
            " [ 0.15413275]\n",
            " [-0.50502966]\n",
            " [ 0.28851679]\n",
            " [ 0.54333375]\n",
            " [-2.6306552 ]\n",
            " [-0.62413437]\n",
            " [-1.52341625]\n",
            " [-0.11041452]\n",
            " [ 1.51524991]\n",
            " [ 0.6273461 ]\n",
            " [-7.32002854]\n",
            " [ 2.80596566]\n",
            " [-1.09355813]\n",
            " [ 0.04214218]\n",
            " [ 0.74371821]\n",
            " [-0.16602873]\n",
            " [ 0.7686077 ]\n",
            " [ 6.39597288]\n",
            " [ 0.02840861]\n",
            " [ 0.53736669]\n",
            " [-0.2997792 ]\n",
            " [-0.36359679]\n",
            " [ 0.1132395 ]\n",
            " [-0.34706119]\n",
            " [ 0.16746312]\n",
            " [-0.65736641]\n",
            " [-1.4898756 ]\n",
            " [ 0.12678768]\n",
            " [-0.79088025]\n",
            " [-0.10253465]\n",
            " [ 2.43955529]\n",
            " [ 5.8971264 ]\n",
            " [-6.87908304]]\n"
          ],
          "name": "stdout"
        }
      ]
    },
    {
      "cell_type": "markdown",
      "metadata": {
        "id": "KUfOdds8cFwh"
      },
      "source": [
        "#### Gaussian Basis Function"
      ]
    },
    {
      "cell_type": "code",
      "metadata": {
        "id": "6FKJ7F-IOtqC"
      },
      "source": [
        "def gaussianFunction(x, mu, sigma):\n",
        "    return np.exp(-0.5 * (x - mu) ** 2 / sigma ** 2)"
      ],
      "execution_count": 14,
      "outputs": []
    },
    {
      "cell_type": "code",
      "metadata": {
        "id": "DWzP_8W6Zc5w"
      },
      "source": [
        "def applyGaussian(x):\n",
        "    x = x.values\n",
        "    \n",
        "    for c in range(len(x[0])):\n",
        "        column = [col[c] for col in x]\n",
        "        mean = sum(column) / len(column)\n",
        "        std = stdev(column)\n",
        "\n",
        "    column = [gaussianFunction(column[i], mean, std) for i in range(len(column))]\n",
        "\n",
        "    for i in range(0, len(column)):\n",
        "        x[i][c] = column[i]\n",
        "    \n",
        "    return x"
      ],
      "execution_count": 15,
      "outputs": []
    },
    {
      "cell_type": "code",
      "metadata": {
        "id": "Aht0p-PF9jtQ"
      },
      "source": [
        "Cost_train, Cost_valid, Weights = LinearRegression(X_train, Y_train, X_valid, Y_valid, _Gaussian = True)"
      ],
      "execution_count": 16,
      "outputs": []
    },
    {
      "cell_type": "code",
      "metadata": {
        "id": "ZHzveVZ9WqkJ",
        "outputId": "b1cf5985-acb6-4f90-8816-a2f9eebe6c78",
        "colab": {
          "base_uri": "https://localhost:8080/",
          "height": 34
        }
      },
      "source": [
        "print(\"Gaussian - training error:\", Cost_train[0], \", validation error:\", Cost_valid[0])"
      ],
      "execution_count": 17,
      "outputs": [
        {
          "output_type": "stream",
          "text": [
            "Gaussian - training error: 0.0013891708657683601 , validation error: 0.003336239225609239\n"
          ],
          "name": "stdout"
        }
      ]
    },
    {
      "cell_type": "markdown",
      "metadata": {
        "id": "dB41h0Yoc5_H"
      },
      "source": [
        "#### Sigmoidal Basis Function"
      ]
    },
    {
      "cell_type": "code",
      "metadata": {
        "id": "86r37kYedDyE"
      },
      "source": [
        "def sigmoidFunction(x):\n",
        "    return 1.0 / (1.0 + math.exp(-x))"
      ],
      "execution_count": 18,
      "outputs": []
    },
    {
      "cell_type": "code",
      "metadata": {
        "id": "bOXbo6d7djf6"
      },
      "source": [
        "def applySigmoid(x):\n",
        "    x = x.values\n",
        "    \n",
        "    for c in range(len(x[0])):\n",
        "        column = [col[c] for col in x]\n",
        "\n",
        "    column = [sigmoidFunction(column[i]) for i in range(len(column))]\n",
        "\n",
        "    for i in range(0, len(column)):\n",
        "        x[i][c] = column[i]\n",
        "    \n",
        "    return x"
      ],
      "execution_count": 19,
      "outputs": []
    },
    {
      "cell_type": "code",
      "metadata": {
        "id": "JFFCiHgReEph"
      },
      "source": [
        "Cost_train, Cost_valid, Weights = LinearRegression(X_train, Y_train, X_valid, Y_valid, _Sigmoid = True)"
      ],
      "execution_count": 20,
      "outputs": []
    },
    {
      "cell_type": "code",
      "metadata": {
        "id": "ysEo38K4eFch",
        "outputId": "daab8dcf-6ec4-4f14-a9dd-f3a6b52c1d90",
        "colab": {
          "base_uri": "https://localhost:8080/",
          "height": 34
        }
      },
      "source": [
        "print(\"Sigmoid - training error:\", Cost_train[0], \", validation error:\", Cost_valid[0])"
      ],
      "execution_count": 21,
      "outputs": [
        {
          "output_type": "stream",
          "text": [
            "Sigmoid - training error: 0.0011235875268768294 , validation error: 0.0031850896293164127\n"
          ],
          "name": "stdout"
        }
      ]
    },
    {
      "cell_type": "markdown",
      "metadata": {
        "id": "7y1gMsKIeWhd"
      },
      "source": [
        "### 5-fold Cross Validation"
      ]
    },
    {
      "cell_type": "code",
      "metadata": {
        "id": "9BRz1hovhX24"
      },
      "source": [
        "num_folds = 5\n",
        "\n",
        "X_train_folds = np.array_split(data_X, num_folds)\n",
        "Y_train_folds = np.array_split(data_T, num_folds)\n",
        "\n",
        "Cost_train_f = []\n",
        "Cost_valid_f = []\n",
        "\n",
        "for i in range(num_folds):\n",
        "    X_train_f, X_valid_f = np.concatenate(X_train_folds[:i] + X_train_folds[i+1:]), X_train_folds[i]\n",
        "    Y_train_f, Y_valid_f = np.concatenate(Y_train_folds[:i] + Y_train_folds[i+1:]), Y_train_folds[i]\n",
        "\n",
        "    Cost_train, Cost_valid, Weights = LinearRegression(pd.DataFrame(X_train_f), pd.DataFrame(Y_train_f), pd.DataFrame(X_valid_f), pd.DataFrame(Y_valid_f), 2)\n",
        "    Cost_train_f.append(Cost_train[1])\n",
        "    Cost_valid_f.append(Cost_valid[1])"
      ],
      "execution_count": 22,
      "outputs": []
    },
    {
      "cell_type": "code",
      "metadata": {
        "id": "9p56BsISlnx8",
        "outputId": "d35117e5-11e6-4eba-d9b0-d7d17c798626",
        "colab": {
          "base_uri": "https://localhost:8080/",
          "height": 279
        }
      },
      "source": [
        "plt.plot([i for i in range(1, num_folds + 1)], Cost_train_f, '-bo', label='training')\n",
        "plt.plot([i for i in range(1, num_folds + 1)], Cost_valid_f, '-ro', label='validation')\n",
        "\n",
        "plt.legend(loc='best')\n",
        "plt.xlabel('folds')\n",
        "plt.ylabel('RMSE')\n",
        "plt.show()"
      ],
      "execution_count": 23,
      "outputs": [
        {
          "output_type": "display_data",
          "data": {
            "image/png": "[encoded data removed]",
            "text/plain": [
              "<Figure size 432x288 with 1 Axes>"
            ]
          },
          "metadata": {
            "tags": [],
            "needs_background": "light"
          }
        }
      ]
    },
    {
      "cell_type": "markdown",
      "metadata": {
        "id": "Xs0NQ5NjsOZ5"
      },
      "source": [
        "### Maximum A Posterior Approach"
      ]
    },
    {
      "cell_type": "code",
      "metadata": {
        "id": "cpjgycVNq_ES",
        "outputId": "5bdf5daa-3040-46a0-d706-e4a5dfdf37ac",
        "colab": {
          "base_uri": "https://localhost:8080/",
          "height": 51
        }
      },
      "source": [
        "# https://stats.stackexchange.com/questions/367485/map-estimation-as-regularisation-of-mle\n",
        "# https://stats.stackexchange.com/questions/347530/why-is-the-regularization-term-added-to-the-cost-function-instead-of-multipli/347534#347534\n",
        "\n",
        "# MAP\n",
        "Cost_train, Cost_valid, Weights = LinearRegression(X_train, Y_train, X_valid, Y_valid, 2, _Regularized = True)\n",
        "print(\"MAP\", \"training error:\", Cost_train[1], \", validation error:\", Cost_valid[1])\n",
        "\n",
        "# ML\n",
        "Cost_train, Cost_valid, Weights = LinearRegression(X_train, Y_train, X_valid, Y_valid, 2, _Regularized = False)\n",
        "print(\"ML\", \"training error:\", Cost_train[1], \", validation error:\", Cost_valid[1])"
      ],
      "execution_count": 26,
      "outputs": [
        {
          "output_type": "stream",
          "text": [
            "MAP training error: 0.0003570744413858093 , validation error: 0.0023493203528307024\n",
            "ML training error: 0.11558635628263877 , validation error: 0.11756318068829154\n"
          ],
          "name": "stdout"
        }
      ]
    }
  ]
}